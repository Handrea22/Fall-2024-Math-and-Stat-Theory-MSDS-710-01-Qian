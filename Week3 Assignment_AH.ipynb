{
 "cells": [
  {
   "cell_type": "markdown",
   "id": "9f8944f4",
   "metadata": {},
   "source": [
    "# Introduction to Linear Algebra Assignment"
   ]
  },
  {
   "cell_type": "markdown",
   "id": "d0f94059",
   "metadata": {},
   "source": [
    "Due by Sept 15, 2024"
   ]
  },
  {
   "cell_type": "markdown",
   "id": "654ccebe",
   "metadata": {},
   "source": [
    "## Q1. Matrix Multiplication\n",
    "\n"
   ]
  },
  {
   "cell_type": "code",
   "execution_count": 1,
   "id": "370a1dc1",
   "metadata": {},
   "outputs": [],
   "source": [
    "import numpy as np"
   ]
  },
  {
   "cell_type": "markdown",
   "id": "9b20b28c",
   "metadata": {},
   "source": [
    "Create the following matrices in Numpy \n",
    "\n",
    "$$X = \\begin{bmatrix}\n",
    "2 & 3 & 4 \\\\\n",
    "5 & 6 & 7\n",
    "\\end{bmatrix}$$\n",
    "\n",
    "$$Y = \\begin{bmatrix}\n",
    "3 & 2  \\\\\n",
    "5 & 6  \\\\\n",
    "0 & 1 \n",
    "\\end{bmatrix}$$"
   ]
  },
  {
   "cell_type": "code",
   "execution_count": 2,
   "id": "60168af6",
   "metadata": {},
   "outputs": [
    {
     "name": "stdout",
     "output_type": "stream",
     "text": [
      "[[2 3 4]\n",
      " [5 6 7]]\n",
      "[[3 2]\n",
      " [5 6]\n",
      " [0 1]]\n"
     ]
    }
   ],
   "source": [
    "# Complete your code here\n",
    "X = np.array([[2, 3, 4], [5, 6, 7]])\n",
    "print(X)\n",
    "Y = np.array([[3,2], [5, 6],[0, 1]])\n",
    "print(Y)"
   ]
  },
  {
   "cell_type": "markdown",
   "id": "2821d81b",
   "metadata": {},
   "source": [
    "Calculate $Z=XY$ (matrix mulitplication of $X$ and $Y$) by calculate each individual element of $Z$. Also calculate it with Numpy buildin function to confirm two answers are same."
   ]
  },
  {
   "cell_type": "code",
   "execution_count": 3,
   "id": "5c6d810c",
   "metadata": {},
   "outputs": [
    {
     "name": "stdout",
     "output_type": "stream",
     "text": [
      "[[21 26]\n",
      " [45 53]]\n"
     ]
    }
   ],
   "source": [
    "Z = np.dot(X, Y) # write your code by replacing None with your code. Do not change the variable name Z\n",
    "print(Z)"
   ]
  },
  {
   "cell_type": "code",
   "execution_count": 4,
   "id": "cdffc3ba",
   "metadata": {},
   "outputs": [
    {
     "name": "stdout",
     "output_type": "stream",
     "text": [
      "[[21. 26.]\n",
      " [45. 53.]]\n"
     ]
    }
   ],
   "source": [
    "# Write your code to calculate the Z manually here\n",
    "\n",
    "Z1 = np.zeros((2,2)) #initialize the Z1 matrix\n",
    "Z1[0, 0] = X[0, 0] * Y[0, 0] + X[0, 1] * Y[1, 0] + X[0, 2] * Y[2, 0]\n",
    "#Your code should look like Z1[0,0] = 1*2 + 2*3+ 3*4 to reflect \n",
    "#the defintion of matrix mulitplication.\n",
    "Z1[0, 1] = X[0, 0] * Y[0, 1] + X[0, 1] * Y[1, 1] + X[0, 2] * Y[2, 1]\n",
    "Z1[1, 0] = X[1, 0] * Y[0, 0] + X[1, 1] * Y[1, 0] + X[1, 2] * Y[2, 0]\n",
    "Z1[1, 1] = X[1, 0] * Y[0, 1] + X[1, 1] * Y[1, 1] + X[1, 2] * Y[2, 1]\n",
    "\n",
    "print(Z1)"
   ]
  },
  {
   "cell_type": "code",
   "execution_count": 5,
   "id": "8fba2306",
   "metadata": {},
   "outputs": [
    {
     "name": "stdout",
     "output_type": "stream",
     "text": [
      "NumPy calculation of Z:\n",
      "[[21 26]\n",
      " [45 53]]\n",
      "Both calculations match!\n"
     ]
    }
   ],
   "source": [
    "# Re-Calculate Z using NumPy's dot function\n",
    "Z = np.dot(X, Y)\n",
    "\n",
    "print(\"NumPy calculation of Z:\")\n",
    "print(Z)\n",
    "\n",
    "# Confirm the two results are the same\n",
    "assert np.array_equal(Z1, Z), \"The manual calculation and NumPy calculation do not match!\"\n",
    "print(\"Both calculations match!\")"
   ]
  },
  {
   "cell_type": "markdown",
   "id": "96f9edbb",
   "metadata": {},
   "source": [
    "### Q2 Use the property of matrices to prove properties of psudo inverse of matrices\n",
    "\n",
    "The **pseudo-inverse** (or Moore-Penrose inverse) of a matrix is a generalization of the inverse matrix that can be applied to non-square or singular matrices, where a regular inverse does not exist.It is commonly used in linear algebra, statistics, and optimization for solving systems of linear equations, particularly when the system does not have a unique solution or is over- or under-determined.\n",
    "\n",
    "\n",
    "The psudo inverse of a matrix $A$, denoted by $A^\\dagger$, is defined as:\n",
    "\n",
    "$$A^\\dagger = (A^TA)^{-1}A^T$$\n",
    "\n",
    "Let $A = \\begin{bmatrix}\n",
    "2 & 3 & 4 \\\\\n",
    "5 & 6 & 7\n",
    "\\end{bmatrix}$. Write Python code to calculate $A^\\dagger$"
   ]
  },
  {
   "cell_type": "code",
   "execution_count": 6,
   "id": "d4c134e2",
   "metadata": {
    "scrolled": true
   },
   "outputs": [
    {
     "name": "stdout",
     "output_type": "stream",
     "text": [
      "Matrix A:\n",
      "[[2 3 4]\n",
      " [5 6 7]]\n"
     ]
    },
    {
     "ename": "LinAlgError",
     "evalue": "Singular matrix",
     "output_type": "error",
     "traceback": [
      "\u001b[1;31m---------------------------------------------------------------------------\u001b[0m",
      "\u001b[1;31mLinAlgError\u001b[0m                               Traceback (most recent call last)",
      "Cell \u001b[1;32mIn[6], line 6\u001b[0m\n\u001b[0;32m      3\u001b[0m \u001b[38;5;28mprint\u001b[39m(A)\n\u001b[0;32m      5\u001b[0m A_T \u001b[38;5;241m=\u001b[39m A\u001b[38;5;241m.\u001b[39mT\n\u001b[1;32m----> 6\u001b[0m Adagger \u001b[38;5;241m=\u001b[39m \u001b[43mnp\u001b[49m\u001b[38;5;241;43m.\u001b[39;49m\u001b[43mlinalg\u001b[49m\u001b[38;5;241;43m.\u001b[39;49m\u001b[43minv\u001b[49m\u001b[43m(\u001b[49m\u001b[43mA_T\u001b[49m\u001b[43m \u001b[49m\u001b[38;5;241;43m@\u001b[39;49m\u001b[43m \u001b[49m\u001b[43mA\u001b[49m\u001b[43m)\u001b[49m \u001b[38;5;241m@\u001b[39m A_T\n",
      "File \u001b[1;32m~\\anaconda3\\lib\\site-packages\\numpy\\linalg\\linalg.py:561\u001b[0m, in \u001b[0;36minv\u001b[1;34m(a)\u001b[0m\n\u001b[0;32m    559\u001b[0m signature \u001b[38;5;241m=\u001b[39m \u001b[38;5;124m'\u001b[39m\u001b[38;5;124mD->D\u001b[39m\u001b[38;5;124m'\u001b[39m \u001b[38;5;28;01mif\u001b[39;00m isComplexType(t) \u001b[38;5;28;01melse\u001b[39;00m \u001b[38;5;124m'\u001b[39m\u001b[38;5;124md->d\u001b[39m\u001b[38;5;124m'\u001b[39m\n\u001b[0;32m    560\u001b[0m extobj \u001b[38;5;241m=\u001b[39m get_linalg_error_extobj(_raise_linalgerror_singular)\n\u001b[1;32m--> 561\u001b[0m ainv \u001b[38;5;241m=\u001b[39m \u001b[43m_umath_linalg\u001b[49m\u001b[38;5;241;43m.\u001b[39;49m\u001b[43minv\u001b[49m\u001b[43m(\u001b[49m\u001b[43ma\u001b[49m\u001b[43m,\u001b[49m\u001b[43m \u001b[49m\u001b[43msignature\u001b[49m\u001b[38;5;241;43m=\u001b[39;49m\u001b[43msignature\u001b[49m\u001b[43m,\u001b[49m\u001b[43m \u001b[49m\u001b[43mextobj\u001b[49m\u001b[38;5;241;43m=\u001b[39;49m\u001b[43mextobj\u001b[49m\u001b[43m)\u001b[49m\n\u001b[0;32m    562\u001b[0m \u001b[38;5;28;01mreturn\u001b[39;00m wrap(ainv\u001b[38;5;241m.\u001b[39mastype(result_t, copy\u001b[38;5;241m=\u001b[39m\u001b[38;5;28;01mFalse\u001b[39;00m))\n",
      "File \u001b[1;32m~\\anaconda3\\lib\\site-packages\\numpy\\linalg\\linalg.py:112\u001b[0m, in \u001b[0;36m_raise_linalgerror_singular\u001b[1;34m(err, flag)\u001b[0m\n\u001b[0;32m    111\u001b[0m \u001b[38;5;28;01mdef\u001b[39;00m \u001b[38;5;21m_raise_linalgerror_singular\u001b[39m(err, flag):\n\u001b[1;32m--> 112\u001b[0m     \u001b[38;5;28;01mraise\u001b[39;00m LinAlgError(\u001b[38;5;124m\"\u001b[39m\u001b[38;5;124mSingular matrix\u001b[39m\u001b[38;5;124m\"\u001b[39m)\n",
      "\u001b[1;31mLinAlgError\u001b[0m: Singular matrix"
     ]
    }
   ],
   "source": [
    "A = np.array([[2, 3, 4], [5, 6, 7]]) # define variable A.\n",
    "print(\"Matrix A:\")\n",
    "print(A)\n",
    "\n",
    "A_T = A.T\n",
    "Adagger = np.linalg.inv(A_T @ A) @ A_T"
   ]
  },
  {
   "cell_type": "markdown",
   "id": "df228d37",
   "metadata": {},
   "source": [
    "Write your code to verify the following property of $A^\\dagger$:\n",
    "\n",
    "1. $AA^\\dagger A = A$\n",
    "2. $A^\\dagger A A^\\dagger = A^\\dagger$\n",
    "3. $(AA^\\dagger)^T = AA^\\dagger$\n",
    "4. $(A^\\dagger A)^T = A^\\dagger A$\n"
   ]
  },
  {
   "cell_type": "code",
   "execution_count": 7,
   "id": "5809c907",
   "metadata": {},
   "outputs": [
    {
     "name": "stdout",
     "output_type": "stream",
     "text": [
      "Matrix A:\n",
      "[[2 3 4]\n",
      " [5 6 7]]\n",
      "Pseudo-inverse of A:\n",
      "[[-1.11111111  0.61111111]\n",
      " [-0.11111111  0.11111111]\n",
      " [ 0.88888889 -0.38888889]]\n"
     ]
    }
   ],
   "source": [
    "# Define matrix A\n",
    "A = np.array([[2, 3, 4], [5, 6, 7]])\n",
    "print(\"Matrix A:\")\n",
    "print(A)\n",
    "\n",
    "# Calculate the pseudo-inverse using NumPy's pinv function\n",
    "Adagger = np.linalg.pinv(A)\n",
    "print(\"Pseudo-inverse of A:\")\n",
    "print(Adagger)"
   ]
  },
  {
   "cell_type": "code",
   "execution_count": 8,
   "id": "52bf6b9c",
   "metadata": {},
   "outputs": [
    {
     "name": "stdout",
     "output_type": "stream",
     "text": [
      "Matrix A:\n",
      "[[2 3 4]\n",
      " [5 6 7]]\n",
      "Pseudo-inverse of A:\n",
      "[[-1.11111111  0.61111111]\n",
      " [-0.11111111  0.11111111]\n",
      " [ 0.88888889 -0.38888889]]\n",
      "A A^\\dagger A:\n",
      "[[2. 3. 4.]\n",
      " [5. 6. 7.]]\n",
      "Matrix A for comparison:\n",
      "[[2 3 4]\n",
      " [5 6 7]]\n",
      "Matrix A matches A_Adagger_A\n"
     ]
    }
   ],
   "source": [
    "# Define matrix A\n",
    "A = np.array([[2, 3, 4], [5, 6, 7]])\n",
    "print(\"Matrix A:\")\n",
    "print(A)\n",
    "\n",
    "# Calculate the pseudo-inverse using NumPy's pinv function\n",
    "Adagger = np.linalg.pinv(A)\n",
    "print(\"Pseudo-inverse of A:\")\n",
    "print(Adagger)\n",
    "\n",
    "# Calculate A A^\\dagger A\n",
    "A_Adagger_A = A @ Adagger @ A\n",
    "print(\"A A^\\dagger A:\")\n",
    "print(A_Adagger_A)\n",
    "\n",
    "# Print A for comparison\n",
    "print(\"Matrix A for comparison:\")\n",
    "print(A)\n",
    "\n",
    "print(\"Matrix A matches A_Adagger_A\")"
   ]
  },
  {
   "cell_type": "code",
   "execution_count": 9,
   "id": "40777a6a",
   "metadata": {},
   "outputs": [
    {
     "name": "stdout",
     "output_type": "stream",
     "text": [
      "Matrix A:\n",
      "[[2 3 4]\n",
      " [5 6 7]]\n",
      "Pseudo-inverse of A:\n",
      "[[-1.11111111  0.61111111]\n",
      " [-0.11111111  0.11111111]\n",
      " [ 0.88888889 -0.38888889]]\n",
      "A^\\dagger A A^\\dagger:\n",
      "[[-1.11111111  0.61111111]\n",
      " [-0.11111111  0.11111111]\n",
      " [ 0.88888889 -0.38888889]]\n",
      "Pseudo-inverse of A for comparison:\n",
      "[[-1.11111111  0.61111111]\n",
      " [-0.11111111  0.11111111]\n",
      " [ 0.88888889 -0.38888889]]\n",
      "Psuedo-inverse of A matches Adagger_A_Adagger\n"
     ]
    }
   ],
   "source": [
    "# Define matrix A\n",
    "A = np.array([[2, 3, 4], [5, 6, 7]])\n",
    "print(\"Matrix A:\")\n",
    "print(A)\n",
    "\n",
    "# Calculate the pseudo-inverse using NumPy's pinv function\n",
    "Adagger = np.linalg.pinv(A)\n",
    "print(\"Pseudo-inverse of A:\")\n",
    "print(Adagger)\n",
    "\n",
    "# Calculate A^\\dagger A A^\\dagger\n",
    "Adagger_A_Adagger = Adagger @ A @ Adagger\n",
    "print(\"A^\\dagger A A^\\dagger:\")\n",
    "print(Adagger_A_Adagger)\n",
    "\n",
    "# Print A^\\dagger for comparison\n",
    "print(\"Pseudo-inverse of A for comparison:\")\n",
    "print(Adagger)\n",
    "\n",
    "print(\"Psuedo-inverse of A matches Adagger_A_Adagger\")"
   ]
  },
  {
   "cell_type": "code",
   "execution_count": 10,
   "id": "242f98e3",
   "metadata": {},
   "outputs": [
    {
     "name": "stdout",
     "output_type": "stream",
     "text": [
      "Matrix A:\n",
      "[[2 3 4]\n",
      " [5 6 7]]\n",
      "Pseudo-inverse of A:\n",
      "[[-1.11111111  0.61111111]\n",
      " [-0.11111111  0.11111111]\n",
      " [ 0.88888889 -0.38888889]]\n",
      "(A A^\\dagger)^T:\n",
      "[[ 1.0000000e+00 -8.8817842e-16]\n",
      " [ 0.0000000e+00  1.0000000e+00]]\n",
      "A A^\\dagger for comparison:\n",
      "[[ 1.0000000e+00  0.0000000e+00]\n",
      " [-8.8817842e-16  1.0000000e+00]]\n",
      "A_Adagger does not match A_Adagger_T\n"
     ]
    }
   ],
   "source": [
    "# Define matrix A\n",
    "A = np.array([[2, 3, 4], [5, 6, 7]])\n",
    "print(\"Matrix A:\")\n",
    "print(A)\n",
    "\n",
    "# Calculate the pseudo-inverse using NumPy's pinv function\n",
    "Adagger = np.linalg.pinv(A)\n",
    "print(\"Pseudo-inverse of A:\")\n",
    "print(Adagger)\n",
    "\n",
    "# Calculate A A^\\dagger\n",
    "A_Adagger = A @ Adagger\n",
    "\n",
    "# Calculate (A A^\\dagger)^T\n",
    "A_Adagger_T = A_Adagger.T\n",
    "print(\"(A A^\\dagger)^T:\")\n",
    "print(A_Adagger_T)\n",
    "\n",
    "# Print A A^\\dagger for comparison\n",
    "print(\"A A^\\dagger for comparison:\")\n",
    "print(A_Adagger)\n",
    "\n",
    "print(\"A_Adagger does not match A_Adagger_T\")"
   ]
  },
  {
   "cell_type": "code",
   "execution_count": 11,
   "id": "fd6de14c",
   "metadata": {},
   "outputs": [
    {
     "name": "stdout",
     "output_type": "stream",
     "text": [
      "Matrix A:\n",
      "[[2 3 4]\n",
      " [5 6 7]]\n",
      "Pseudo-inverse of A:\n",
      "[[-1.11111111  0.61111111]\n",
      " [-0.11111111  0.11111111]\n",
      " [ 0.88888889 -0.38888889]]\n",
      "(A^\\dagger A)^T:\n",
      "[[ 0.83333333  0.33333333 -0.16666667]\n",
      " [ 0.33333333  0.33333333  0.33333333]\n",
      " [-0.16666667  0.33333333  0.83333333]]\n",
      "A^\\dagger A for comparison:\n",
      "[[ 0.83333333  0.33333333 -0.16666667]\n",
      " [ 0.33333333  0.33333333  0.33333333]\n",
      " [-0.16666667  0.33333333  0.83333333]]\n",
      "Adagger_A matches Adagger_A_T\n"
     ]
    }
   ],
   "source": [
    "# Define matrix A\n",
    "A = np.array([[2, 3, 4], [5, 6, 7]])\n",
    "print(\"Matrix A:\")\n",
    "print(A)\n",
    "\n",
    "# Calculate the pseudo-inverse using NumPy's pinv function\n",
    "Adagger = np.linalg.pinv(A)\n",
    "print(\"Pseudo-inverse of A:\")\n",
    "print(Adagger)\n",
    "\n",
    "# Calculate A^\\dagger A\n",
    "Adagger_A = Adagger @ A\n",
    "\n",
    "# Calculate (A^\\dagger A)^T\n",
    "Adagger_A_T = Adagger_A.T\n",
    "print(\"(A^\\dagger A)^T:\")\n",
    "print(Adagger_A_T)\n",
    "\n",
    "# Print A^\\dagger A for comparison\n",
    "print(\"A^\\dagger A for comparison:\")\n",
    "print(Adagger_A)\n",
    "\n",
    "print(\"Adagger_A matches Adagger_A_T\")"
   ]
  },
  {
   "cell_type": "markdown",
   "id": "4234a0b0",
   "metadata": {},
   "source": [
    "### Q3: Solve systems of linear equations\n"
   ]
  },
  {
   "cell_type": "markdown",
   "id": "75600c15",
   "metadata": {},
   "source": [
    "Consider a system of linear equations:\n",
    "$$\\begin{cases} \n",
    "-x_1+3x_2 +4x_3=7 \n",
    "\\\\ 3x_1+2x_3=2 \\\\\n",
    "4x_1-5x_2 = -4  \\end{cases}\\tag{1}$$\n",
    "\n"
   ]
  },
  {
   "cell_type": "code",
   "execution_count": 12,
   "id": "ed808d85",
   "metadata": {},
   "outputs": [
    {
     "name": "stdout",
     "output_type": "stream",
     "text": [
      "Matrix A:\n",
      "[[-1  3  4]\n",
      " [ 3  0  2]\n",
      " [ 4 -5  0]]\n",
      "Vector C:\n",
      "[ 7  2 -4]\n"
     ]
    }
   ],
   "source": [
    "# Define the matrix A as the coefficients of the linear equations\n",
    "A = np.array([[-1, 3, 4], [3, 0, 2], [4, -5, 0]])\n",
    "\n",
    "# Define the vector C as the right-hand side of the linear equations\n",
    "C = np.array([7, 2, -4])\n",
    "\n",
    "print(\"Matrix A:\")\n",
    "print(A)\n",
    "\n",
    "print(\"Vector C:\")\n",
    "print(C)"
   ]
  },
  {
   "cell_type": "code",
   "execution_count": 13,
   "id": "41d38471",
   "metadata": {
    "scrolled": true
   },
   "outputs": [
    {
     "name": "stdout",
     "output_type": "stream",
     "text": [
      "Solution X:\n",
      "[-0.13043478  0.69565217  1.19565217]\n"
     ]
    }
   ],
   "source": [
    "# Write your code to calculate the solution of the linear equations using the \n",
    "# matrix inverse method. Do not directly use np.linalg.solve function.\n",
    "\n",
    "# Define matrix A as coefficients of the linear equations\n",
    "A = np.array([[-1, 3, 4], [3, 0, 2], [4, -5, 0]])\n",
    "\n",
    "# Define vector C as the righthand side of the linear equations\n",
    "C = np.array([7, 2, -4])\n",
    "\n",
    "# Calculate inverse of matrix A\n",
    "A_inv = np.linalg.inv(A)\n",
    "\n",
    "# Calculate the solution X using matrix inverse method\n",
    "X = A_inv @ C\n",
    "\n",
    "print(\"Solution X:\")\n",
    "print(X)\n"
   ]
  },
  {
   "cell_type": "code",
   "execution_count": 14,
   "id": "039737c2",
   "metadata": {},
   "outputs": [
    {
     "name": "stdout",
     "output_type": "stream",
     "text": [
      "Solution X1 using np.linalg.solve:\n",
      "[-0.13043478  0.69565217  1.19565217]\n"
     ]
    }
   ],
   "source": [
    "#we can also use np.linalg.solve function to solve the system of linear equations\n",
    "X1 = np.linalg.solve(A, C) # write your code to solve the equation with \n",
    "            #np.linalg.solve function\n",
    "\n",
    "print(\"Solution X1 using np.linalg.solve:\")\n",
    "print(X1)\n"
   ]
  },
  {
   "cell_type": "markdown",
   "id": "2a9c9bdb",
   "metadata": {},
   "source": [
    "## Q4 Vectors\n",
    "\n",
    "Write your code to define vectors \n",
    "\n",
    "$v1 = [2, 3, -2, 4]$, $v2 = [3, -2, 2, 1]$, and $v3 = [-1, 2, 5, -3]$"
   ]
  },
  {
   "cell_type": "code",
   "execution_count": 15,
   "id": "7656f1c7",
   "metadata": {},
   "outputs": [
    {
     "name": "stdout",
     "output_type": "stream",
     "text": [
      "Vector v1:\n",
      "[ 2  3 -2  4]\n",
      "Vector v2:\n",
      "[ 3 -2  2  1]\n",
      "Vector v3:\n",
      "[-1  2  5 -3]\n"
     ]
    }
   ],
   "source": [
    "v1 = np.array([2, 3, -2, 4]) # write your code to define the vector v1.\n",
    "v2 = np.array([3, -2, 2, 1]) # write your code to define the vector v2.\n",
    "v3 = np.array([-1, 2, 5, -3]) # write your code to define the vector v3.\n",
    "\n",
    "print(\"Vector v1:\")\n",
    "print(v1)\n",
    "print(\"Vector v2:\")\n",
    "print(v2)\n",
    "print(\"Vector v3:\")\n",
    "print(v3)"
   ]
  },
  {
   "cell_type": "markdown",
   "id": "b66f2c6f",
   "metadata": {},
   "source": [
    "# Calculate the dot products of $v1$ and $v2$, $v1$ and $v3$, and $v2$ and $v3$.\n",
    "\n",
    "# Determine if any pair of them are orthognal. \n"
   ]
  },
  {
   "cell_type": "code",
   "execution_count": 16,
   "id": "eb0657e9",
   "metadata": {},
   "outputs": [
    {
     "name": "stdout",
     "output_type": "stream",
     "text": [
      "0\n",
      "0\n",
      "-18\n"
     ]
    },
    {
     "ename": "NameError",
     "evalue": "name 'dot_v1_v2' is not defined",
     "output_type": "error",
     "traceback": [
      "\u001b[1;31m---------------------------------------------------------------------------\u001b[0m",
      "\u001b[1;31mNameError\u001b[0m                                 Traceback (most recent call last)",
      "Cell \u001b[1;32mIn[16], line 8\u001b[0m\n\u001b[0;32m      5\u001b[0m v1dotv3 \u001b[38;5;241m=\u001b[39m np\u001b[38;5;241m.\u001b[39mdot(v1, v3) \u001b[38;5;66;03m# write your code to calculate the dot product of v1 and v3.\u001b[39;00m\n\u001b[0;32m      6\u001b[0m \u001b[38;5;28mprint\u001b[39m(v1dotv3)\n\u001b[1;32m----> 8\u001b[0m orthogonal_v1_v2 \u001b[38;5;241m=\u001b[39m \u001b[43mdot_v1_v2\u001b[49m \u001b[38;5;241m==\u001b[39m \u001b[38;5;241m0\u001b[39m\n\u001b[0;32m      9\u001b[0m orthogonal_v2_v3 \u001b[38;5;241m=\u001b[39m dot_v2_v3 \u001b[38;5;241m==\u001b[39m \u001b[38;5;241m0\u001b[39m\n\u001b[0;32m     10\u001b[0m orthogonal_v1_v3 \u001b[38;5;241m=\u001b[39m dot_v1_v3 \u001b[38;5;241m==\u001b[39m \u001b[38;5;241m0\u001b[39m\n",
      "\u001b[1;31mNameError\u001b[0m: name 'dot_v1_v2' is not defined"
     ]
    }
   ],
   "source": [
    "v1dotv2 = np.dot(v1, v2) # write your code to calculate the dot product of v1 and v2.\n",
    "print(v1dotv2)\n",
    "v2dotv3 = np.dot(v2, v3) # write your code to calculate the dot product of v2 and v3.\n",
    "print(v2dotv3)\n",
    "v1dotv3 = np.dot(v1, v3) # write your code to calculate the dot product of v1 and v3.\n",
    "print(v1dotv3)\n",
    "\n",
    "orthogonal_v1_v2 = dot_v1_v2 == 0\n",
    "orthogonal_v2_v3 = dot_v2_v3 == 0\n",
    "orthogonal_v1_v3 = dot_v1_v3 == 0\n",
    "print(\"Are v1 and v2 orthogonal?\", orthogonal_v1_v2)\n",
    "print(\"Are v2 and v3 orthogonal?\", orthogonal_v2_v3)\n",
    "print(\"Are v1 and v3 orthogonal?\", orthogonal_v1_v3)"
   ]
  },
  {
   "cell_type": "markdown",
   "id": "6e021699",
   "metadata": {},
   "source": [
    "Which pair(s) of $v1$, $v2$, and $v3$ are(is) orthogonal? \n",
    "\n",
    "**Write your answer here**\n",
    "$v1$ & $v2$ and $v1$ & $v3$ are orthogonal pairs."
   ]
  },
  {
   "cell_type": "markdown",
   "id": "25287cd8",
   "metadata": {},
   "source": [
    "Write code to calculate the $L_1$, $L_2$, and $L_\\infty$ of $v1$. "
   ]
  },
  {
   "cell_type": "code",
   "execution_count": 17,
   "id": "62fb0e70",
   "metadata": {},
   "outputs": [
    {
     "name": "stdout",
     "output_type": "stream",
     "text": [
      "L1 norm of v1: 11\n",
      "L2 norm of v1: 5.744562646538029\n",
      "L∞ norm of v1: 4\n"
     ]
    }
   ],
   "source": [
    "norm1_v1 = np.sum(np.abs(v1)) # write your code to calculate the L1 norm of v1.\n",
    "print(\"L1 norm of v1:\", norm1_v1)\n",
    "norm2_v1 = np.sqrt(np.sum(v1**2)) # write your code to calculate the L2 norm of v1.\n",
    "print(\"L2 norm of v1:\", norm2_v1) \n",
    "norminf_v1 = np.max(np.abs(v1)) # write your code to calculate the L infinity norm of v1.\n",
    "print(\"L∞ norm of v1:\", norminf_v1) "
   ]
  },
  {
   "cell_type": "markdown",
   "id": "de9fac6f",
   "metadata": {},
   "source": [
    "## Q5: Eigenvalues and Eigenvectors\n",
    "\n",
    "Let $A = \\begin{bmatrix}\n",
    "2 & 3 & -4 \\\\\n",
    "5 & -6 & 7 \\\\\n",
    "3 & 2 & 1\n",
    "\\end{bmatrix}$.\n",
    "\n",
    "Write code to calculate eigenvalues and eigenvectors of $A$"
   ]
  },
  {
   "cell_type": "code",
   "execution_count": 18,
   "id": "5695a4e9",
   "metadata": {},
   "outputs": [
    {
     "name": "stdout",
     "output_type": "stream",
     "text": [
      "Eigenvalues of A:\n",
      "[ 2.70068584+2.25504479j  2.70068584-2.25504479j -8.40137167+0.j        ]\n",
      "Eigenvectors of A:\n",
      "[[-0.0019519 -0.441613j  -0.0019519 +0.441613j   0.31155776+0.j       ]\n",
      " [-0.57554325-0.1046112j -0.57554325+0.1046112j -0.94478325+0.j       ]\n",
      " [-0.6802798 +0.j        -0.6802798 -0.j         0.10156957+0.j       ]]\n"
     ]
    }
   ],
   "source": [
    "import numpy as np\n",
    "\n",
    "# Define the matrix A\n",
    "A = np.array([[2, 3, -4], [5, -6, 7], [3, 2, 1]])\n",
    "\n",
    "# Calculate the eigenvalues and eigenvectors\n",
    "eigenvalues, eigenvectors = np.linalg.eig(A)\n",
    "\n",
    "print(\"Eigenvalues of A:\")\n",
    "print(eigenvalues)\n",
    "\n",
    "print(\"Eigenvectors of A:\")\n",
    "print(eigenvectors)\n"
   ]
  },
  {
   "cell_type": "code",
   "execution_count": 19,
   "id": "5f74d5d2",
   "metadata": {},
   "outputs": [
    {
     "name": "stdout",
     "output_type": "stream",
     "text": [
      "First eigenvalue (L1) and eigenvector (v1):\n",
      "(2.7006858365622213+2.255044785097792j)\n",
      "[-0.0019519 -0.441613j  -0.57554325-0.1046112j -0.6802798 +0.j       ]\n",
      "Second eigenvalue (L2) and eigenvector (v2):\n",
      "(2.7006858365622213-2.255044785097792j)\n",
      "[-0.0019519 +0.441613j  -0.57554325+0.1046112j -0.6802798 -0.j       ]\n",
      "Third eigenvalue (L3) and eigenvector (v3):\n",
      "(-8.401371673124446+0j)\n",
      "[ 0.31155776+0.j -0.94478325+0.j  0.10156957+0.j]\n"
     ]
    }
   ],
   "source": [
    "import numpy as np\n",
    "\n",
    "# Define the matrix A\n",
    "A = np.array([[2, 3, -4], [5, -6, 7], [3, 2, 1]])\n",
    "\n",
    "# Calculate the eigenvalues and eigenvectors\n",
    "eigenvalues, eigenvectors = np.linalg.eig(A)\n",
    "\n",
    "# Extract the eigenvalues and eigenvectors\n",
    "L1, L2, L3 = eigenvalues\n",
    "v1, v2, v3 = eigenvectors[:, 0], eigenvectors[:, 1], eigenvectors[:, 2]\n",
    "\n",
    "# Print the eigenvalues and eigenvectors\n",
    "print(\"First eigenvalue (L1) and eigenvector (v1):\")\n",
    "print(L1)\n",
    "print(v1)\n",
    "\n",
    "print(\"Second eigenvalue (L2) and eigenvector (v2):\")\n",
    "print(L2)\n",
    "print(v2)\n",
    "\n",
    "print(\"Third eigenvalue (L3) and eigenvector (v3):\")\n",
    "print(L3)\n",
    "print(v3)\n"
   ]
  },
  {
   "cell_type": "markdown",
   "id": "f7ebcfa6",
   "metadata": {},
   "source": [
    "Write code to verify that the eigenvalues and eigenvectores you calculated are correct. You need to verify that:\n",
    "\n",
    "$A v1 = \\lambda v1$. \n"
   ]
  },
  {
   "cell_type": "code",
   "execution_count": 20,
   "id": "512943f0",
   "metadata": {},
   "outputs": [
    {
     "name": "stdout",
     "output_type": "stream",
     "text": [
      "A v1:\n",
      "[ 0.99058562-1.19705961j -1.31845857-1.58039781j -1.83722202-1.53406141j]\n",
      "L1 v1:\n",
      "[ 0.99058562-1.19705961j -1.31845857-1.58039781j -1.83722202-1.53406141j]\n",
      "A v2:\n",
      "[ 0.99058562+1.19705961j -1.31845857+1.58039781j -1.83722202+1.53406141j]\n",
      "L2 v2:\n",
      "[ 0.99058562+1.19705961j -1.31845857+1.58039781j -1.83722202+1.53406141j]\n",
      "A v3:\n",
      "[-2.6175125 +0.j  7.93747523+0.j -0.85332367+0.j]\n",
      "L3 v3:\n",
      "[-2.6175125 +0.j  7.93747523-0.j -0.85332367+0.j]\n"
     ]
    }
   ],
   "source": [
    "import numpy as np\n",
    "\n",
    "# Define the matrix A\n",
    "A = np.array([[2, 3, -4], [5, -6, 7], [3, 2, 1]])\n",
    "\n",
    "# Calculate the eigenvalues and eigenvectors\n",
    "eigenvalues, eigenvectors = np.linalg.eig(A)\n",
    "\n",
    "# Extract the eigenvalues and eigenvectors\n",
    "L1, L2, L3 = eigenvalues\n",
    "v1, v2, v3 = eigenvectors[:, 0], eigenvectors[:, 1], eigenvectors[:, 2]\n",
    "\n",
    "# Print A v1\n",
    "print(\"A v1:\")\n",
    "print(A @ v1)\n",
    "\n",
    "# Print L1 v1\n",
    "print(\"L1 v1:\")\n",
    "print(L1 * v1)\n",
    "\n",
    "# Print A v2\n",
    "print(\"A v2:\")\n",
    "print(A @ v2)\n",
    "\n",
    "# Print L2 v2\n",
    "print(\"L2 v2:\")\n",
    "print(L2 * v2)\n",
    "\n",
    "# Print A v3\n",
    "print(\"A v3:\")\n",
    "print(A @ v3)\n",
    "\n",
    "# Print L3 v3\n",
    "print(\"L3 v3:\")\n",
    "print(L3 * v3)\n"
   ]
  }
 ],
 "metadata": {
  "kernelspec": {
   "display_name": "Python 3 (ipykernel)",
   "language": "python",
   "name": "python3"
  },
  "language_info": {
   "codemirror_mode": {
    "name": "ipython",
    "version": 3
   },
   "file_extension": ".py",
   "mimetype": "text/x-python",
   "name": "python",
   "nbconvert_exporter": "python",
   "pygments_lexer": "ipython3",
   "version": "3.9.18"
  }
 },
 "nbformat": 4,
 "nbformat_minor": 5
}
